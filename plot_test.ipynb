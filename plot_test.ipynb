df_plot = pd.read_excel("top_3_impact_statements_within_each_effect_CCS585_V4.xlsx") 
df_plot = df_plot[df_plot["epoch"] == 2080]
df_plot = df_plot[df_plot["effect"] == "Increasing adverse consequences"]

# --- 1) Pre-aggregate counts (only real combos; removes gaps) ---
counts = (
    df_plot.groupby(["Rank", "impact_statement"], as_index=False)
      .size()
      .rename(columns={"size": "freq"})
)

# Order Rank (adjust if you have different labels)
rank_order = ["1", "2", "3"]
counts["Rank"] = counts["Rank"].astype(str)
counts["Rank"] = pd.Categorical(counts["Rank"], categories=rank_order, ordered=True)

# --- 2) Build a global, stable color map with enough distinct colors ---
impact_levels = sorted(counts["impact_statement"].astype(str).unique().tolist())
# pick a palette with many distinct colors; fall back to husl if > 20
if len(impact_levels) <= 20:
    palette = sns.color_palette("tab20", n_colors=len(impact_levels))
else:
    palette = sns.color_palette("husl", n_colors=len(impact_levels))
color_map = dict(zip(impact_levels, palette))

# --- 3) Plot grouped bars WITHOUT gaps and WITH stable colors ---
ranks = list(counts["Rank"].cat.categories)
x_centers = np.arange(len(ranks))
group_width = 0.85
bar_gap = 0.02

fig, ax = plt.subplots(figsize=(12, 7))
legend_handles = {}

for i, rank in enumerate(ranks):
    subset = counts[counts["Rank"] == rank]
    k = len(subset)
    if k == 0:
        continue
    width = (group_width - (k - 1) * bar_gap) / k
    left = x_centers[i] - group_width / 2
    xs = left + np.arange(k) * (width + bar_gap) + width / 2

    for x, (_, row) in zip(xs, subset.iterrows()):
        imp = str(row["impact_statement"])
        bar = ax.bar(
            x, row["freq"], width=width,
            color=color_map[imp], edgecolor="black", linewidth=0.8
        )
        if imp not in legend_handles:
            legend_handles[imp] = bar[0]

# --- 4) Format ---
ax.set_xticks(x_centers)
ax.set_xticklabels(ranks)
ax.set_xlabel("Rank")
ax.set_ylabel("Frequency of CCSs")
ax.set_title("Increasing adverse impacts most frequently ranked 1st, 2nd, and 3rd highest by a Consolidated Census Division - 2080")
ax.grid(axis="y", linestyle="-", linewidth=0.6, alpha=0.5)
ax.set_axisbelow(True)

# Legend: one entry per impact statement, consistent colors
ax.legend(legend_handles.values(), legend_handles.keys(),
          title="Climate Impact Chain", bbox_to_anchor=(1.02, 1), loc="upper left")

plt.tight_layout()


plt.savefig("Increasing adverse consequences_impacts_CCS_2080_V4.png", dpi=300, bbox_inches="tight")  # PNG

plt.show()
